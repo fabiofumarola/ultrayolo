{
 "cells": [
  {
   "cell_type": "code",
   "execution_count": 1,
   "metadata": {},
   "outputs": [],
   "source": [
    "import sys\n",
    "if '..' not in sys.path:\n",
    "    sys.path.append('..')"
   ]
  },
  {
   "cell_type": "code",
   "execution_count": null,
   "metadata": {},
   "outputs": [],
   "source": [
    "from tfyolo3.dataloaders import common\n",
    "from tfyolo3.helpers import draw\n",
    "from tfyolo3 import YoloV3\n",
    "from tfyolo3 import layers\n",
    "from pathlib import Path\n",
    "import numpy as np\n",
    "import tensorflow as tf\n",
    "import math\n",
    "import numpy as np\n",
    "from matplotlib import patches\n",
    "import matplotlib.pyplot as plt"
   ]
  },
  {
   "cell_type": "code",
   "execution_count": null,
   "metadata": {},
   "outputs": [],
   "source": [
    "classes = common.load_classes('../tests/data/classes.txt')\n",
    "# classes.append('car interior')\n",
    "classes\n"
   ]
  },
  {
   "cell_type": "code",
   "execution_count": null,
   "metadata": {},
   "outputs": [],
   "source": [
    "target_shape = (512, 512, 3)\n",
    "batch_size = 4\n",
    "# grid_len = 8\n",
    "is_training = True\n",
    "max_boxes_per_image = 50\n",
    "num_classes = len(classes)"
   ]
  },
  {
   "cell_type": "code",
   "execution_count": null,
   "metadata": {},
   "outputs": [],
   "source": [
    "model = YoloV3(target_shape,\n",
    "               max_boxes_per_image,\n",
    "               # anchors=YoloV3.default_anchors,\n",
    "               num_classes=num_classes,training=False)"
   ]
  },
  {
   "cell_type": "code",
   "execution_count": null,
   "metadata": {},
   "outputs": [],
   "source": [
    "w_path = str(Path('../weights.117-9.932.h5').absolute())\n",
    "model.load_weights(w_path)"
   ]
  },
  {
   "cell_type": "code",
   "execution_count": null,
   "metadata": {},
   "outputs": [],
   "source": [
    "tf.keras.utils.plot_model(model.model, show_shapes=True)"
   ]
  },
  {
   "cell_type": "code",
   "execution_count": null,
   "metadata": {},
   "outputs": [],
   "source": [
    "img = common.open_image('./test.jpg')\n",
    "img_pad = common.pad_to_fixed_size(img, target_shape)\n",
    "img_resized = common.resize(img, target_shape)\n",
    "x = np.divide(img_pad, 255.)\n",
    "x = np.expand_dims(x, 0)\n",
    "x.shape"
   ]
  },
  {
   "cell_type": "code",
   "execution_count": null,
   "metadata": {},
   "outputs": [],
   "source": [
    "boxes, scores, classes, sel = model.model.predict(x)"
   ]
  },
  {
   "cell_type": "code",
   "execution_count": null,
   "metadata": {},
   "outputs": [],
   "source": [
    "boxes[:,:sel[0],:]"
   ]
  },
  {
   "cell_type": "code",
   "execution_count": null,
   "metadata": {},
   "outputs": [],
   "source": [
    "scores"
   ]
  },
  {
   "cell_type": "code",
   "execution_count": null,
   "metadata": {},
   "outputs": [],
   "source": [
    "classes"
   ]
  },
  {
   "cell_type": "code",
   "execution_count": null,
   "metadata": {},
   "outputs": [],
   "source": [
    "sel"
   ]
  },
  {
   "cell_type": "code",
   "execution_count": null,
   "metadata": {},
   "outputs": [],
   "source": [
    "class_names = Path('../model_data/coco_classes.txt')\\\n",
    "    .read_text().splitlines()\n",
    "class_names_dict = dict(enumerate(class_names))"
   ]
  },
  {
   "cell_type": "code",
   "execution_count": null,
   "metadata": {},
   "outputs": [],
   "source": [
    "ax = draw.show_img(img_resized, figsize=(16,10))\n",
    "for i,b in enumerate(boxes[0,:sel[0]]):\n",
    "    draw.rect(ax, b)\n",
    "    draw.text(ax, b[:2], class_names_dict[classes[0, i]] + ' ' + str(round(scores[0,i],2)), sz=10)\n",
    "    print(class_names_dict[classes[0, i]], scores[0,i])\n",
    "    \n",
    "plt.show()"
   ]
  }
 ],
 "metadata": {
  "kernelspec": {
   "display_name": "Python 3",
   "language": "python",
   "name": "python3"
  }
 },
 "nbformat": 4,
 "nbformat_minor": 2
}
