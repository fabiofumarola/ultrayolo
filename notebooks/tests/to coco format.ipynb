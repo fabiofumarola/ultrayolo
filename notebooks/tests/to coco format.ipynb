{
 "cells": [
  {
   "cell_type": "code",
   "execution_count": 1,
   "metadata": {},
   "outputs": [],
   "source": [
    "import json\n",
    "from pathlib import Path"
   ]
  },
  {
   "cell_type": "code",
   "execution_count": 15,
   "metadata": {},
   "outputs": [],
   "source": [
    "base_path = Path('../tests/data/')"
   ]
  },
  {
   "cell_type": "code",
   "execution_count": 17,
   "metadata": {},
   "outputs": [
    {
     "name": "stdout",
     "output_type": "stream",
     "text": [
      "__init__.py        classes.txt        \u001b[1m\u001b[36mother_images\u001b[m\u001b[m\r\n",
      "\u001b[1m\u001b[36mannotations\u001b[m\u001b[m        \u001b[1m\u001b[36mimages\u001b[m\u001b[m             train.yml\r\n",
      "annotations.txt    manifest.txt       yolov3_anchors.txt\r\n"
     ]
    }
   ],
   "source": [
    "!ls {base_path}"
   ]
  },
  {
   "cell_type": "code",
   "execution_count": 13,
   "metadata": {},
   "outputs": [],
   "source": [
    "doc = {\n",
    "    'info': {\n",
    "        \"description\": \"COCO test Dataset\",\n",
    "        \"url\": \"\",\n",
    "        \"version\": \"1.0\",\n",
    "        \"year\": 2020,\n",
    "        \"contributor\": \"Fabio\",\n",
    "        \"date_created\": \"2020/01/27\"\n",
    "    },\n",
    "    'licenses': {\n",
    "            \"url\": \"http://creativecommons.org/licenses/by-nc-sa/2.0/\",\n",
    "            \"id\": 1,\n",
    "            \"name\": \"Attribution-NonCommercial-ShareAlike License\"\n",
    "    },\n",
    "    'images': [],\n",
    "    'annotations': [],\n",
    "    'categories': []\n",
    "}"
   ]
  },
  {
   "cell_type": "code",
   "execution_count": 14,
   "metadata": {},
   "outputs": [
    {
     "data": {
      "text/plain": [
       "{'info': {'description': 'COCO test Dataset',\n",
       "  'url': '',\n",
       "  'version': '1.0',\n",
       "  'year': 2020,\n",
       "  'contributor': 'Fabio',\n",
       "  'date_created': '2020/01/27'},\n",
       " 'licenses': {'url': 'http://creativecommons.org/licenses/by-nc-sa/2.0/',\n",
       "  'id': 1,\n",
       "  'name': 'Attribution-NonCommercial-ShareAlike License'},\n",
       " 'images': [],\n",
       " 'annotations': [],\n",
       " 'categories': []}"
      ]
     },
     "execution_count": 14,
     "metadata": {},
     "output_type": "execute_result"
    }
   ],
   "source": [
    "doc"
   ]
  },
  {
   "cell_type": "code",
   "execution_count": 24,
   "metadata": {},
   "outputs": [],
   "source": [
    "from imageio import imread\n",
    "from datetime import datetime"
   ]
  },
  {
   "cell_type": "code",
   "execution_count": 44,
   "metadata": {},
   "outputs": [],
   "source": [
    "images = []\n",
    "for i, img_path in enumerate((base_path / 'images').glob('*.jpg')):\n",
    "    img = imread(img_path)\n",
    "    img_doc = {\n",
    "        \"license\": 1,\n",
    "        'file_name': img_path.name,\n",
    "        'coco_url': '',\n",
    "        \"height\": img.shape[0],\n",
    "        \"width\": img.shape[1],\n",
    "        \"date_captured\": datetime.now().strftime('%Y-%m-%d %H:%m:%S'),\n",
    "        \"flickr_url\": \"\",\n",
    "        \"id\": i\n",
    "        \n",
    "    }\n",
    "    images.append(img_doc) \n",
    "    \n",
    "doc['images'] = images"
   ]
  },
  {
   "cell_type": "code",
   "execution_count": 45,
   "metadata": {},
   "outputs": [
    {
     "data": {
      "text/plain": [
       "{'info': {'description': 'COCO test Dataset',\n",
       "  'url': '',\n",
       "  'version': '1.0',\n",
       "  'year': 2020,\n",
       "  'contributor': 'Fabio',\n",
       "  'date_created': '2020/01/27'},\n",
       " 'licenses': {'url': 'http://creativecommons.org/licenses/by-nc-sa/2.0/',\n",
       "  'id': 1,\n",
       "  'name': 'Attribution-NonCommercial-ShareAlike License'},\n",
       " 'images': [{'license': 1,\n",
       "   'file_name': 'AK65JZA-FORD-CAR_1.jpg',\n",
       "   'coco_url': '',\n",
       "   'height': 250,\n",
       "   'width': 502,\n",
       "   'date_captured': '2020-01-27 19:01:01',\n",
       "   'flickr_url': '',\n",
       "   'id': 0},\n",
       "  {'license': 1,\n",
       "   'file_name': 'AK65JZA-FORD-CAR_0.jpg',\n",
       "   'coco_url': '',\n",
       "   'height': 251,\n",
       "   'width': 502,\n",
       "   'date_captured': '2020-01-27 19:01:01',\n",
       "   'flickr_url': '',\n",
       "   'id': 1},\n",
       "  {'license': 1,\n",
       "   'file_name': 'car.jpg',\n",
       "   'coco_url': '',\n",
       "   'height': 1080,\n",
       "   'width': 1920,\n",
       "   'date_captured': '2020-01-27 19:01:01',\n",
       "   'flickr_url': '',\n",
       "   'id': 2},\n",
       "  {'license': 1,\n",
       "   'file_name': 'BG55HWH-CITROEN_0.jpg',\n",
       "   'coco_url': '',\n",
       "   'height': 502,\n",
       "   'width': 502,\n",
       "   'date_captured': '2020-01-27 19:01:01',\n",
       "   'flickr_url': '',\n",
       "   'id': 3}],\n",
       " 'annotations': [],\n",
       " 'categories': []}"
      ]
     },
     "execution_count": 45,
     "metadata": {},
     "output_type": "execute_result"
    }
   ],
   "source": [
    "doc"
   ]
  },
  {
   "cell_type": "code",
   "execution_count": 58,
   "metadata": {},
   "outputs": [],
   "source": [
    "with open(base_path /'classes.txt', 'r') as fp:\n",
    "    classes = [v.strip() for v in fp.readlines()]\n",
    "    \n",
    "categories = []\n",
    "for i, cat in enumerate(classes):\n",
    "    cat_doc = {\n",
    "        \"supercategory\": \"thing\",\n",
    "        \"id\": i,\n",
    "        \"name\": cat\n",
    "    }\n",
    "    categories.append(cat_doc)\n",
    "doc['categories'] = categories"
   ]
  },
  {
   "cell_type": "code",
   "execution_count": 59,
   "metadata": {},
   "outputs": [
    {
     "data": {
      "text/plain": [
       "{'info': {'description': 'COCO test Dataset',\n",
       "  'url': '',\n",
       "  'version': '1.0',\n",
       "  'year': 2020,\n",
       "  'contributor': 'Fabio',\n",
       "  'date_created': '2020/01/27'},\n",
       " 'licenses': {'url': 'http://creativecommons.org/licenses/by-nc-sa/2.0/',\n",
       "  'id': 1,\n",
       "  'name': 'Attribution-NonCommercial-ShareAlike License'},\n",
       " 'images': [{'license': 1,\n",
       "   'file_name': 'AK65JZA-FORD-CAR_1.jpg',\n",
       "   'coco_url': '',\n",
       "   'height': 250,\n",
       "   'width': 502,\n",
       "   'date_captured': '2020-01-27 19:01:01',\n",
       "   'flickr_url': '',\n",
       "   'id': 0},\n",
       "  {'license': 1,\n",
       "   'file_name': 'AK65JZA-FORD-CAR_0.jpg',\n",
       "   'coco_url': '',\n",
       "   'height': 251,\n",
       "   'width': 502,\n",
       "   'date_captured': '2020-01-27 19:01:01',\n",
       "   'flickr_url': '',\n",
       "   'id': 1},\n",
       "  {'license': 1,\n",
       "   'file_name': 'car.jpg',\n",
       "   'coco_url': '',\n",
       "   'height': 1080,\n",
       "   'width': 1920,\n",
       "   'date_captured': '2020-01-27 19:01:01',\n",
       "   'flickr_url': '',\n",
       "   'id': 2},\n",
       "  {'license': 1,\n",
       "   'file_name': 'BG55HWH-CITROEN_0.jpg',\n",
       "   'coco_url': '',\n",
       "   'height': 502,\n",
       "   'width': 502,\n",
       "   'date_captured': '2020-01-27 19:01:01',\n",
       "   'flickr_url': '',\n",
       "   'id': 3}],\n",
       " 'annotations': [],\n",
       " 'categories': [{'supercategory': 'thing', 'id': 0, 'name': 'book'},\n",
       "  {'supercategory': 'thing', 'id': 1, 'name': 'bus'},\n",
       "  {'supercategory': 'thing', 'id': 2, 'name': 'car'},\n",
       "  {'supercategory': 'thing', 'id': 3, 'name': 'motorcycle'},\n",
       "  {'supercategory': 'thing', 'id': 4, 'name': 'vehicle registration plate'}]}"
      ]
     },
     "execution_count": 59,
     "metadata": {},
     "output_type": "execute_result"
    }
   ],
   "source": [
    "doc"
   ]
  },
  {
   "cell_type": "code",
   "execution_count": 79,
   "metadata": {},
   "outputs": [],
   "source": [
    "c = 0\n",
    "annotations = []\n",
    "for i, ann_file in enumerate((base_path / 'annotations').glob('*.txt')):\n",
    "    ann_list = [v.split(',') for v in ann_file.read_text().splitlines()]\n",
    "    for ann in ann_list:\n",
    "        ann_doc = {\n",
    "            'segmentation': [],\n",
    "            'area': 0,\n",
    "            'iscrowd': 0,\n",
    "            'image_id': i,\n",
    "            'bbox': [float(v) for v in ann[:4]],\n",
    "            'category_id': int(ann[4]),\n",
    "            'id': c\n",
    "        }\n",
    "        annotations.append(ann_doc)\n",
    "        c += 1\n",
    "doc['annotations'] = annotations        "
   ]
  },
  {
   "cell_type": "code",
   "execution_count": 80,
   "metadata": {},
   "outputs": [
    {
     "data": {
      "text/plain": [
       "{'info': {'description': 'COCO test Dataset',\n",
       "  'url': '',\n",
       "  'version': '1.0',\n",
       "  'year': 2020,\n",
       "  'contributor': 'Fabio',\n",
       "  'date_created': '2020/01/27'},\n",
       " 'licenses': {'url': 'http://creativecommons.org/licenses/by-nc-sa/2.0/',\n",
       "  'id': 1,\n",
       "  'name': 'Attribution-NonCommercial-ShareAlike License'},\n",
       " 'images': [{'license': 1,\n",
       "   'file_name': 'AK65JZA-FORD-CAR_1.jpg',\n",
       "   'coco_url': '',\n",
       "   'height': 250,\n",
       "   'width': 502,\n",
       "   'date_captured': '2020-01-27 19:01:01',\n",
       "   'flickr_url': '',\n",
       "   'id': 0},\n",
       "  {'license': 1,\n",
       "   'file_name': 'AK65JZA-FORD-CAR_0.jpg',\n",
       "   'coco_url': '',\n",
       "   'height': 251,\n",
       "   'width': 502,\n",
       "   'date_captured': '2020-01-27 19:01:01',\n",
       "   'flickr_url': '',\n",
       "   'id': 1},\n",
       "  {'license': 1,\n",
       "   'file_name': 'car.jpg',\n",
       "   'coco_url': '',\n",
       "   'height': 1080,\n",
       "   'width': 1920,\n",
       "   'date_captured': '2020-01-27 19:01:01',\n",
       "   'flickr_url': '',\n",
       "   'id': 2},\n",
       "  {'license': 1,\n",
       "   'file_name': 'BG55HWH-CITROEN_0.jpg',\n",
       "   'coco_url': '',\n",
       "   'height': 502,\n",
       "   'width': 502,\n",
       "   'date_captured': '2020-01-27 19:01:01',\n",
       "   'flickr_url': '',\n",
       "   'id': 3}],\n",
       " 'annotations': [{'segmentation': [],\n",
       "   'area': 0,\n",
       "   'iscrowd': 0,\n",
       "   'image_id': 0,\n",
       "   'bbox': [0.0, 22.0, 520.0, 258.0],\n",
       "   'category_id': 2,\n",
       "   'id': 0},\n",
       "  {'segmentation': [],\n",
       "   'area': 0,\n",
       "   'iscrowd': 0,\n",
       "   'image_id': 0,\n",
       "   'bbox': [0.0, 0.0, 442.0, 500.0],\n",
       "   'category_id': 2,\n",
       "   'id': 1},\n",
       "  {'segmentation': [],\n",
       "   'area': 0,\n",
       "   'iscrowd': 0,\n",
       "   'image_id': 1,\n",
       "   'bbox': [0.0, 8.0, 517.0, 224.0],\n",
       "   'category_id': 2,\n",
       "   'id': 2},\n",
       "  {'segmentation': [],\n",
       "   'area': 0,\n",
       "   'iscrowd': 0,\n",
       "   'image_id': 2,\n",
       "   'bbox': [87.0, 82.0, 536.0, 247.0],\n",
       "   'category_id': 2,\n",
       "   'id': 3},\n",
       "  {'segmentation': [],\n",
       "   'area': 0,\n",
       "   'iscrowd': 0,\n",
       "   'image_id': 3,\n",
       "   'bbox': [0.0, 0.0, 492.0, 500.0],\n",
       "   'category_id': 2,\n",
       "   'id': 4},\n",
       "  {'segmentation': [],\n",
       "   'area': 0,\n",
       "   'iscrowd': 0,\n",
       "   'image_id': 3,\n",
       "   'bbox': [0.0, 0.0, 442.0, 500.0],\n",
       "   'category_id': 2,\n",
       "   'id': 5}],\n",
       " 'categories': [{'supercategory': 'thing', 'id': 0, 'name': 'book'},\n",
       "  {'supercategory': 'thing', 'id': 1, 'name': 'bus'},\n",
       "  {'supercategory': 'thing', 'id': 2, 'name': 'car'},\n",
       "  {'supercategory': 'thing', 'id': 3, 'name': 'motorcycle'},\n",
       "  {'supercategory': 'thing', 'id': 4, 'name': 'vehicle registration plate'}]}"
      ]
     },
     "execution_count": 80,
     "metadata": {},
     "output_type": "execute_result"
    }
   ],
   "source": [
    "doc"
   ]
  },
  {
   "cell_type": "code",
   "execution_count": 81,
   "metadata": {},
   "outputs": [],
   "source": [
    "with (base_path / 'coco_dataset.json').open('w') as fp:\n",
    "    json.dump(doc, fp, indent=2)"
   ]
  }
 ],
 "metadata": {
  "kernelspec": {
   "display_name": "Python 3",
   "language": "python",
   "name": "python3"
  },
  "language_info": {
   "codemirror_mode": {
    "name": "ipython",
    "version": 3
   },
   "file_extension": ".py",
   "mimetype": "text/x-python",
   "name": "python",
   "nbconvert_exporter": "python",
   "pygments_lexer": "ipython3",
   "version": "3.7.6"
  }
 },
 "nbformat": 4,
 "nbformat_minor": 4
}
