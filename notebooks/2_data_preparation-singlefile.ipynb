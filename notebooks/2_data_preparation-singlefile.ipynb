{
 "cells": [
  {
   "cell_type": "markdown",
   "metadata": {},
   "source": [
    "# Transform the targets to the Yolo Format\n",
    "\n",
    "This notebook helps to understand how the data are prepared for Yolo using a test dataset."
   ]
  },
  {
   "cell_type": "code",
   "execution_count": 33,
   "metadata": {},
   "outputs": [],
   "source": [
    "import sys\n",
    "if '..' not in sys.path:\n",
    "    sys.path.append('..')\n",
    "\n",
    "from tfyolo3.dataloaders import YoloDatasetSingleFile\n",
    "from tfyolo3.dataloaders import common\n",
    "from tfyolo3 import YoloV3\n",
    "from tfyolo3 import layers\n",
    "from pathlib import Path\n",
    "import numpy as np\n",
    "import tensorflow as tf\n",
    "import matplotlib.pyplot as plt\n",
    "\n",
    "import imgaug as ia\n",
    "from imgaug import augmenters as iaa\n",
    "from imgaug.augmentables.bbs import BoundingBox, BoundingBoxesOnImage\n",
    "\n",
    "# tf.enable_v2_behavior()"
   ]
  },
  {
   "cell_type": "markdown",
   "metadata": {},
   "source": [
    "The classes contained in the dataset"
   ]
  },
  {
   "cell_type": "code",
   "execution_count": 34,
   "metadata": {},
   "outputs": [
    {
     "data": {
      "text/plain": [
       "[(0, 'chat'), (1, 'rat'), (2, 'test'), (3, 'none')]"
      ]
     },
     "execution_count": 34,
     "metadata": {},
     "output_type": "execute_result"
    }
   ],
   "source": [
    "categories_path = Path('../datasets/test_dataset/classes.txt')\n",
    "categories = common.load_classes(categories_path, True)\n",
    "\n",
    "list(categories.items())[:10]"
   ]
  },
  {
   "cell_type": "markdown",
   "metadata": {},
   "source": [
    "Resize the dataset"
   ]
  },
  {
   "cell_type": "code",
   "execution_count": 35,
   "metadata": {},
   "outputs": [],
   "source": [
    "filepath = Path('../datasets/test_dataset/data_annotations_train.txt')"
   ]
  },
  {
   "cell_type": "markdown",
   "metadata": {},
   "source": [
    "Define the target shape, the max boxes per image, batch size for the dataset generator"
   ]
  },
  {
   "cell_type": "code",
   "execution_count": 36,
   "metadata": {},
   "outputs": [],
   "source": [
    "target_shape = (256, 256)\n",
    "max_objects = 10\n",
    "batch_size = 1\n",
    "gridlen = 8\n",
    "num_classes = len(categories.keys())"
   ]
  },
  {
   "cell_type": "markdown",
   "metadata": {},
   "source": [
    "Load a batch the annotations and resize images and annotations to the target shape"
   ]
  },
  {
   "cell_type": "code",
   "execution_count": 37,
   "metadata": {},
   "outputs": [],
   "source": [
    "ds = YoloDatasetSingleFile(\n",
    "    filepath,\n",
    "    target_shape,\n",
    "    max_objects,\n",
    "    batch_size,\n",
    "    YoloV3.default_anchors,\n",
    "    YoloV3.default_masks,\n",
    "    num_classes,\n",
    "    is_training=False)"
   ]
  },
  {
   "cell_type": "code",
   "execution_count": 38,
   "metadata": {},
   "outputs": [],
   "source": [
    "image_batch, boxes_batch = ds[0]"
   ]
  },
  {
   "cell_type": "code",
   "execution_count": 39,
   "metadata": {},
   "outputs": [
    {
     "name": "stderr",
     "output_type": "stream",
     "text": [
      "2019-11-25 13:00:21,357 - Clipping input data to the valid range for imshow with RGB data ([0..1] for floats or [0..255] for integers).\n"
     ]
    },
    {
     "data": {
      "image/png": "[encoded data removed]",
      "text/plain": [
       "<Figure size 576x256 with 1 Axes>"
      ]
     },
     "metadata": {
      "needs_background": "light"
     },
     "output_type": "display_data"
    },
    {
     "data": {
      "text/plain": [
       "array([[183.,   8., 207.,  18.,   2.],\n",
       "       [199., 208., 223., 218.,   0.],\n",
       "       [ 48.,  46.,  66.,  56.,   1.],\n",
       "       [221., 135., 245., 145.,   3.],\n",
       "       [237., 166., 255., 176.,   1.],\n",
       "       [ 36.,  59.,  60.,  69.,   0.],\n",
       "       [107., 106., 131., 116.,   3.],\n",
       "       [231.,  92., 255., 102.,   3.],\n",
       "       [179., 188., 203., 198.,   0.],\n",
       "       [  0.,   0.,   0.,   0.,   0.]])"
      ]
     },
     "execution_count": 39,
     "metadata": {},
     "output_type": "execute_result"
    }
   ],
   "source": [
    "for img, boxes in zip(image_batch, boxes_batch):\n",
    "    boxes_transformed = BoundingBoxesOnImage([BoundingBox(x[0], x[1], x[2], x[3]) for x in boxes], \n",
    "        shape=img.shape)\n",
    "    ia.imshow(boxes_transformed.draw_on_image(img, size=2))\n",
    "boxes"
   ]
  },
  {
   "cell_type": "markdown",
   "metadata": {},
   "source": [
    "## Data Agumentation"
   ]
  },
  {
   "cell_type": "code",
   "execution_count": 40,
   "metadata": {},
   "outputs": [],
   "source": [
    "import imgaug as ia\n",
    "from imgaug import augmenters as iaa\n",
    "from imgaug.augmentables.bbs import BoundingBox, BoundingBoxesOnImage"
   ]
  },
  {
   "cell_type": "code",
   "execution_count": 41,
   "metadata": {},
   "outputs": [],
   "source": [
    "pipeline = iaa.Sequential([\n",
    "    iaa.Affine(rotate=(90))\n",
    "])"
   ]
  },
  {
   "cell_type": "code",
   "execution_count": 42,
   "metadata": {},
   "outputs": [],
   "source": [
    "ds = YoloDatasetSingleFile(\n",
    "    filepath,\n",
    "    target_shape,\n",
    "    max_objects,\n",
    "    batch_size, \n",
    "    YoloV3.default_anchors,\n",
    "    YoloV3.default_masks, \n",
    "    num_classes, \n",
    "    is_training=False,\n",
    "    augmenters=pipeline)"
   ]
  },
  {
   "cell_type": "code",
   "execution_count": 43,
   "metadata": {},
   "outputs": [],
   "source": [
    "image_batch, boxes_batch = ds[0]"
   ]
  },
  {
   "cell_type": "code",
   "execution_count": 44,
   "metadata": {},
   "outputs": [
    {
     "name": "stderr",
     "output_type": "stream",
     "text": [
      "2019-11-25 13:00:22,722 - Clipping input data to the valid range for imshow with RGB data ([0..1] for floats or [0..255] for integers).\n"
     ]
    },
    {
     "data": {
      "image/png": "[encoded data removed]",
      "text/plain": [
       "<Figure size 576x256 with 1 Axes>"
      ]
     },
     "metadata": {
      "needs_background": "light"
     },
     "output_type": "display_data"
    },
    {
     "data": {
      "text/plain": [
       "array([[210., 247., 220., 255.,   1.],\n",
       "       [111.,  36., 121.,  60.,   3.],\n",
       "       [126., 149., 136., 173.,   0.],\n",
       "       [187., 103., 197., 127.,   0.],\n",
       "       [169., 161., 179., 185.,   2.],\n",
       "       [113., 200., 123., 224.,   0.],\n",
       "       [132.,  74., 142.,  98.,   2.],\n",
       "       [195., 111., 205., 135.,   2.],\n",
       "       [ 40., 227.,  50., 251.,   0.],\n",
       "       [  0.,   0.,   0.,   0.,   0.]])"
      ]
     },
     "execution_count": 44,
     "metadata": {},
     "output_type": "execute_result"
    }
   ],
   "source": [
    "for img, boxes in zip(image_batch, boxes_batch):\n",
    "    boxes_transformed = BoundingBoxesOnImage([BoundingBox(x[0], x[1], x[2], x[3]) for x in boxes], \n",
    "        shape=img.shape)\n",
    "    ia.imshow(boxes_transformed.draw_on_image(img, size=2))\n",
    "boxes"
   ]
  },
  {
   "cell_type": "markdown",
   "metadata": {},
   "source": [
    "## Conclusion\n",
    "\n",
    "This show how the data are encoded by Yolo. These methods are wrapped into a [tf.keras.utils.Sequence](https://www.tensorflow.org/api_docs/python/tf/keras/utils/Sequence)."
   ]
  }
 ],
 "metadata": {
  "kernelspec": {
   "display_name": "Python 3",
   "language": "python",
   "name": "python3"
  },
  "language_info": {
   "codemirror_mode": {
    "name": "ipython",
    "version": 3
   },
   "file_extension": ".py",
   "mimetype": "text/x-python",
   "name": "python",
   "nbconvert_exporter": "python",
   "pygments_lexer": "ipython3",
   "version": "3.7.4"
  }
 },
 "nbformat": 4,
 "nbformat_minor": 2
}
