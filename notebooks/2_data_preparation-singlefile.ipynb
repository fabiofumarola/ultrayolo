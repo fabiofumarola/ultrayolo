{
 "cells": [
  {
   "cell_type": "markdown",
   "metadata": {},
   "source": [
    "# Transform the targets to the Yolo Format\n",
    "\n",
    "This notebook helps to understand how the data are prepared for Yolo using a test dataset."
   ]
  },
  {
   "cell_type": "code",
   "execution_count": 17,
   "metadata": {},
   "outputs": [],
   "source": [
    "import sys\n",
    "if '..' not in sys.path:\n",
    "    sys.path.append('..')\n",
    "\n",
    "from tfyolo3.utils import data_utils\n",
    "from tfyolo3.datasets import SingleFileDataset\n",
    "from tfyolo3 import YoloV3\n",
    "from tfyolo3 import layers\n",
    "from pathlib import Path\n",
    "import numpy as np\n",
    "import tensorflow as tf\n",
    "import matplotlib.pyplot as plt\n",
    "\n",
    "import imgaug as ia\n",
    "from imgaug import augmenters as iaa\n",
    "from imgaug.augmentables.bbs import BoundingBox, BoundingBoxesOnImage\n",
    "\n",
    "# tf.enable_v2_behavior()"
   ]
  },
  {
   "cell_type": "markdown",
   "metadata": {},
   "source": [
    "The classes contained in the dataset"
   ]
  },
  {
   "cell_type": "code",
   "execution_count": 18,
   "metadata": {},
   "outputs": [
    {
     "data": {
      "text/plain": [
       "[(0, 'chat'), (1, 'rat'), (2, 'test'), (3, 'none')]"
      ]
     },
     "execution_count": 18,
     "metadata": {},
     "output_type": "execute_result"
    }
   ],
   "source": [
    "categories_path = Path('../datasets/test_dataset/classes.txt')\n",
    "categories = data_utils.load_classes(categories_path, True)\n",
    "\n",
    "list(categories.items())[:10]"
   ]
  },
  {
   "cell_type": "markdown",
   "metadata": {},
   "source": [
    "Resize the dataset"
   ]
  },
  {
   "cell_type": "code",
   "execution_count": 19,
   "metadata": {},
   "outputs": [],
   "source": [
    "filepath = Path('../datasets/test_dataset/data_annotations_train.txt')"
   ]
  },
  {
   "cell_type": "markdown",
   "metadata": {},
   "source": [
    "Define the target shape, the max boxes per image, batch size for the dataset generator"
   ]
  },
  {
   "cell_type": "code",
   "execution_count": 20,
   "metadata": {},
   "outputs": [],
   "source": [
    "target_shape = (256, 256)\n",
    "max_objects = 10\n",
    "batch_size = 1\n",
    "gridlen = 8\n",
    "num_classes = len(categories.keys())"
   ]
  },
  {
   "cell_type": "markdown",
   "metadata": {},
   "source": [
    "Load a batch the annotations and resize images and annotations to the target shape"
   ]
  },
  {
   "cell_type": "code",
   "execution_count": 22,
   "metadata": {},
   "outputs": [],
   "source": [
    "ds = SingleFileDataset(filepath, target_shape,\n",
    "                       max_objects,\n",
    "                       batch_size,\n",
    "                       YoloV3.default_anchors,\n",
    "                       YoloV3.default_masks,\n",
    "                       gridlen, num_classes,\n",
    "                       is_training=False)"
   ]
  },
  {
   "cell_type": "code",
   "execution_count": 24,
   "metadata": {},
   "outputs": [],
   "source": [
    "image_batch, boxes_batch = ds[0]"
   ]
  },
  {
   "cell_type": "code",
   "execution_count": 25,
   "metadata": {},
   "outputs": [
    {
     "name": "stderr",
     "output_type": "stream",
     "text": [
      "2019-11-22 15:57:06,875 - Clipping input data to the valid range for imshow with RGB data ([0..1] for floats or [0..255] for integers).\n"
     ]
    },
    {
     "data": {
      "image/png": "[encoded data removed]",
      "text/plain": [
       "<Figure size 576x256 with 1 Axes>"
      ]
     },
     "metadata": {
      "needs_background": "light"
     },
     "output_type": "display_data"
    },
    {
     "data": {
      "text/plain": [
       "array([[119.,  62., 143.,  72.,   0.],\n",
       "       [  8., 105.,  32., 115.,   3.],\n",
       "       [190., 155., 208., 165.,   1.],\n",
       "       [214., 149., 238., 159.,   3.],\n",
       "       [225.,  79., 249.,  89.,   3.],\n",
       "       [109., 231., 133., 241.,   2.],\n",
       "       [105.,  14., 129.,  24.,   2.],\n",
       "       [226.,  65., 244.,  75.,   1.],\n",
       "       [165., 220., 189., 230.,   2.],\n",
       "       [  0.,   0.,   0.,   0.,   0.]])"
      ]
     },
     "execution_count": 25,
     "metadata": {},
     "output_type": "execute_result"
    }
   ],
   "source": [
    "for img, boxes in zip(image_batch, boxes_batch):\n",
    "    boxes_transformed = BoundingBoxesOnImage([BoundingBox(x[0], x[1], x[2], x[3]) for x in boxes], \n",
    "        shape=img.shape)\n",
    "    ia.imshow(boxes_transformed.draw_on_image(img, size=2))\n",
    "boxes"
   ]
  },
  {
   "cell_type": "markdown",
   "metadata": {},
   "source": [
    "## Data Agumentation"
   ]
  },
  {
   "cell_type": "code",
   "execution_count": 27,
   "metadata": {},
   "outputs": [],
   "source": [
    "import imgaug as ia\n",
    "from imgaug import augmenters as iaa\n",
    "from imgaug.augmentables.bbs import BoundingBox, BoundingBoxesOnImage"
   ]
  },
  {
   "cell_type": "code",
   "execution_count": 28,
   "metadata": {},
   "outputs": [],
   "source": [
    "pipeline = iaa.Sequential([\n",
    "    iaa.Affine(rotate=(90))\n",
    "])"
   ]
  },
  {
   "cell_type": "code",
   "execution_count": 32,
   "metadata": {},
   "outputs": [],
   "source": [
    "ds = SingleFileDataset(filepath, target_shape, max_objects, batch_size, \n",
    "                      YoloV3.default_anchors, YoloV3.default_masks, gridlen, num_classes, \n",
    "                      is_training=False, augmenters=pipeline)"
   ]
  },
  {
   "cell_type": "code",
   "execution_count": 33,
   "metadata": {},
   "outputs": [],
   "source": [
    "image_batch, boxes_batch = ds[0]"
   ]
  },
  {
   "cell_type": "code",
   "execution_count": 34,
   "metadata": {},
   "outputs": [
    {
     "name": "stderr",
     "output_type": "stream",
     "text": [
      "2019-11-22 15:58:35,972 - Clipping input data to the valid range for imshow with RGB data ([0..1] for floats or [0..255] for integers).\n"
     ]
    },
    {
     "data": {
      "image/png": "[encoded data removed]",
      "text/plain": [
       "<Figure size 576x256 with 1 Axes>"
      ]
     },
     "metadata": {
      "needs_background": "light"
     },
     "output_type": "display_data"
    },
    {
     "data": {
      "text/plain": [
       "array([[ 96.,  41., 106.,  59.,   1.],\n",
       "       [229., 213., 239., 237.,   0.],\n",
       "       [162., 146., 172., 170.,   2.],\n",
       "       [ 36., 242.,  46., 255.,   1.],\n",
       "       [138., 198., 148., 222.,   3.],\n",
       "       [117.,  97., 127., 121.,   2.],\n",
       "       [186., 201., 196., 225.,   2.],\n",
       "       [ 64.,  61.,  74.,  85.,   2.],\n",
       "       [  0., 238.,   1., 255.,   0.],\n",
       "       [  0.,   0.,   0.,   0.,   0.]])"
      ]
     },
     "execution_count": 34,
     "metadata": {},
     "output_type": "execute_result"
    }
   ],
   "source": [
    "for img, boxes in zip(image_batch, boxes_batch):\n",
    "    boxes_transformed = BoundingBoxesOnImage([BoundingBox(x[0], x[1], x[2], x[3]) for x in boxes], \n",
    "        shape=img.shape)\n",
    "    ia.imshow(boxes_transformed.draw_on_image(img, size=2))\n",
    "boxes"
   ]
  },
  {
   "cell_type": "markdown",
   "metadata": {},
   "source": [
    "## Conclusion\n",
    "\n",
    "This show how the data are encoded by Yolo. These methods are wrapped into a [tf.keras.utils.Sequence](https://www.tensorflow.org/api_docs/python/tf/keras/utils/Sequence)."
   ]
  },
  {
   "cell_type": "code",
   "execution_count": null,
   "metadata": {},
   "outputs": [],
   "source": []
  }
 ],
 "metadata": {
  "kernelspec": {
   "display_name": "Python 3",
   "language": "python",
   "name": "python3"
  },
  "language_info": {
   "codemirror_mode": {
    "name": "ipython",
    "version": 3
   },
   "file_extension": ".py",
   "mimetype": "text/x-python",
   "name": "python",
   "nbconvert_exporter": "python",
   "pygments_lexer": "ipython3",
   "version": "3.7.4"
  }
 },
 "nbformat": 4,
 "nbformat_minor": 2
}
